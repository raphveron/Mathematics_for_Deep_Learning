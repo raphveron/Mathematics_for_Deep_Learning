{
  "cells": [
    {
      "cell_type": "markdown",
      "metadata": {
        "id": "0WleKpAJuntX"
      },
      "source": [
        "# Lab IV: Convolution Neural Network\n",
        "***Author: Yiru Zhang***\n",
        "\n",
        "*Department of Computer Science*\n",
        "\n",
        "*Ecole Supérieure d'Ingénieur Léonard De Vinci*\n",
        "\n",
        "In this lab session, you will learn to build up and apply your first convolution neural network.\n",
        "\n",
        "Even though many new architectures have replaced the vanilla convoluntion network, the idea of CNN still play a pivotal role in Computer vision domain. Moreover, the toolboxes involved in this lab session is still hot for any AI applications.\n",
        "\n",
        "The objective of this session is simply introduce to your basic manipulation in deep learning programming, with [PyTorch](https://pytorch.org/get-started/locally/) framework. (Some code semgents in slides are in [Keras](https://keras.io/getting_started/), but PyTorch is much more popular (and a little easier to use) today so we apply it directly.)\n",
        "\n",
        "\n",
        "In this lab session. I will guide you to write a fully connected multilayer perceptron, and then give you more liberty in implementing a CNN.\n",
        "\n",
        "You do not need to implement anything in the first model, but you need to understand every line of the model.\n",
        "\n",
        "You should implement your CNN (LeNet5) by your own.\n",
        "\n",
        "There are many tutorials online, and I encourage you to refer to them. The techniques involved is extremely useful (and fortunately NOT really trivial! ;-) )"
      ]
    },
    {
      "cell_type": "markdown",
      "metadata": {
        "id": "bQBgzYiswQ8e"
      },
      "source": [
        "## Environment setting\n",
        "You need to install [`pytorch`](https://pytorch.org/) firstly, then import it."
      ]
    },
    {
      "cell_type": "code",
      "execution_count": 8,
      "metadata": {},
      "outputs": [
        {
          "name": "stdout",
          "output_type": "stream",
          "text": [
            "Requirement already satisfied: torch in c:\\users\\raphv\\appdata\\local\\packages\\pythonsoftwarefoundation.python.3.9_qbz5n2kfra8p0\\localcache\\local-packages\\python39\\site-packages (2.1.2)\n",
            "Requirement already satisfied: sympy in c:\\users\\raphv\\appdata\\local\\packages\\pythonsoftwarefoundation.python.3.9_qbz5n2kfra8p0\\localcache\\local-packages\\python39\\site-packages (from torch) (1.12)\n",
            "Requirement already satisfied: fsspec in c:\\users\\raphv\\appdata\\local\\packages\\pythonsoftwarefoundation.python.3.9_qbz5n2kfra8p0\\localcache\\local-packages\\python39\\site-packages (from torch) (2023.12.2)\n",
            "Requirement already satisfied: typing-extensions in c:\\users\\raphv\\appdata\\local\\packages\\pythonsoftwarefoundation.python.3.9_qbz5n2kfra8p0\\localcache\\local-packages\\python39\\site-packages (from torch) (4.8.0)\n",
            "Requirement already satisfied: networkx in c:\\users\\raphv\\appdata\\local\\packages\\pythonsoftwarefoundation.python.3.9_qbz5n2kfra8p0\\localcache\\local-packages\\python39\\site-packages (from torch) (3.1)\n",
            "Requirement already satisfied: filelock in c:\\users\\raphv\\appdata\\local\\packages\\pythonsoftwarefoundation.python.3.9_qbz5n2kfra8p0\\localcache\\local-packages\\python39\\site-packages (from torch) (3.13.1)\n",
            "Requirement already satisfied: jinja2 in c:\\users\\raphv\\appdata\\local\\packages\\pythonsoftwarefoundation.python.3.9_qbz5n2kfra8p0\\localcache\\local-packages\\python39\\site-packages (from torch) (3.1.2)\n",
            "Requirement already satisfied: MarkupSafe>=2.0 in c:\\users\\raphv\\appdata\\local\\packages\\pythonsoftwarefoundation.python.3.9_qbz5n2kfra8p0\\localcache\\local-packages\\python39\\site-packages (from jinja2->torch) (2.1.3)\n",
            "Requirement already satisfied: mpmath>=0.19 in c:\\users\\raphv\\appdata\\local\\packages\\pythonsoftwarefoundation.python.3.9_qbz5n2kfra8p0\\localcache\\local-packages\\python39\\site-packages (from sympy->torch) (1.3.0)\n"
          ]
        },
        {
          "name": "stderr",
          "output_type": "stream",
          "text": [
            "WARNING: You are using pip version 22.0.4; however, version 23.3.2 is available.\n",
            "You should consider upgrading via the 'C:\\Users\\raphv\\AppData\\Local\\Microsoft\\WindowsApps\\PythonSoftwareFoundation.Python.3.9_qbz5n2kfra8p0\\python.exe -m pip install --upgrade pip' command.\n"
          ]
        }
      ],
      "source": [
        "#!pip install torch\n"
      ]
    },
    {
      "cell_type": "code",
      "execution_count": 9,
      "metadata": {},
      "outputs": [
        {
          "name": "stdout",
          "output_type": "stream",
          "text": [
            "Requirement already satisfied: torchvision in c:\\users\\raphv\\appdata\\local\\packages\\pythonsoftwarefoundation.python.3.9_qbz5n2kfra8p0\\localcache\\local-packages\\python39\\site-packages (0.16.2)\n",
            "Requirement already satisfied: pillow!=8.3.*,>=5.3.0 in c:\\users\\raphv\\appdata\\local\\packages\\pythonsoftwarefoundation.python.3.9_qbz5n2kfra8p0\\localcache\\local-packages\\python39\\site-packages (from torchvision) (9.5.0)\n",
            "Requirement already satisfied: torch==2.1.2 in c:\\users\\raphv\\appdata\\local\\packages\\pythonsoftwarefoundation.python.3.9_qbz5n2kfra8p0\\localcache\\local-packages\\python39\\site-packages (from torchvision) (2.1.2)\n",
            "Requirement already satisfied: numpy in c:\\users\\raphv\\appdata\\local\\packages\\pythonsoftwarefoundation.python.3.9_qbz5n2kfra8p0\\localcache\\local-packages\\python39\\site-packages (from torchvision) (1.24.2)\n",
            "Requirement already satisfied: requests in c:\\users\\raphv\\appdata\\local\\packages\\pythonsoftwarefoundation.python.3.9_qbz5n2kfra8p0\\localcache\\local-packages\\python39\\site-packages (from torchvision) (2.31.0)\n",
            "Requirement already satisfied: filelock in c:\\users\\raphv\\appdata\\local\\packages\\pythonsoftwarefoundation.python.3.9_qbz5n2kfra8p0\\localcache\\local-packages\\python39\\site-packages (from torch==2.1.2->torchvision) (3.13.1)\n",
            "Requirement already satisfied: typing-extensions in c:\\users\\raphv\\appdata\\local\\packages\\pythonsoftwarefoundation.python.3.9_qbz5n2kfra8p0\\localcache\\local-packages\\python39\\site-packages (from torch==2.1.2->torchvision) (4.8.0)\n",
            "Requirement already satisfied: networkx in c:\\users\\raphv\\appdata\\local\\packages\\pythonsoftwarefoundation.python.3.9_qbz5n2kfra8p0\\localcache\\local-packages\\python39\\site-packages (from torch==2.1.2->torchvision) (3.1)\n",
            "Requirement already satisfied: jinja2 in c:\\users\\raphv\\appdata\\local\\packages\\pythonsoftwarefoundation.python.3.9_qbz5n2kfra8p0\\localcache\\local-packages\\python39\\site-packages (from torch==2.1.2->torchvision) (3.1.2)\n",
            "Requirement already satisfied: sympy in c:\\users\\raphv\\appdata\\local\\packages\\pythonsoftwarefoundation.python.3.9_qbz5n2kfra8p0\\localcache\\local-packages\\python39\\site-packages (from torch==2.1.2->torchvision) (1.12)\n",
            "Requirement already satisfied: fsspec in c:\\users\\raphv\\appdata\\local\\packages\\pythonsoftwarefoundation.python.3.9_qbz5n2kfra8p0\\localcache\\local-packages\\python39\\site-packages (from torch==2.1.2->torchvision) (2023.12.2)\n",
            "Requirement already satisfied: idna<4,>=2.5 in c:\\users\\raphv\\appdata\\local\\packages\\pythonsoftwarefoundation.python.3.9_qbz5n2kfra8p0\\localcache\\local-packages\\python39\\site-packages (from requests->torchvision) (3.4)\n",
            "Requirement already satisfied: certifi>=2017.4.17 in c:\\users\\raphv\\appdata\\local\\packages\\pythonsoftwarefoundation.python.3.9_qbz5n2kfra8p0\\localcache\\local-packages\\python39\\site-packages (from requests->torchvision) (2023.7.22)\n",
            "Requirement already satisfied: urllib3<3,>=1.21.1 in c:\\users\\raphv\\appdata\\local\\packages\\pythonsoftwarefoundation.python.3.9_qbz5n2kfra8p0\\localcache\\local-packages\\python39\\site-packages (from requests->torchvision) (2.0.5)\n",
            "Requirement already satisfied: charset-normalizer<4,>=2 in c:\\users\\raphv\\appdata\\local\\packages\\pythonsoftwarefoundation.python.3.9_qbz5n2kfra8p0\\localcache\\local-packages\\python39\\site-packages (from requests->torchvision) (3.2.0)\n",
            "Requirement already satisfied: MarkupSafe>=2.0 in c:\\users\\raphv\\appdata\\local\\packages\\pythonsoftwarefoundation.python.3.9_qbz5n2kfra8p0\\localcache\\local-packages\\python39\\site-packages (from jinja2->torch==2.1.2->torchvision) (2.1.3)\n",
            "Requirement already satisfied: mpmath>=0.19 in c:\\users\\raphv\\appdata\\local\\packages\\pythonsoftwarefoundation.python.3.9_qbz5n2kfra8p0\\localcache\\local-packages\\python39\\site-packages (from sympy->torch==2.1.2->torchvision) (1.3.0)\n"
          ]
        },
        {
          "name": "stderr",
          "output_type": "stream",
          "text": [
            "WARNING: You are using pip version 22.0.4; however, version 23.3.2 is available.\n",
            "You should consider upgrading via the 'C:\\Users\\raphv\\AppData\\Local\\Microsoft\\WindowsApps\\PythonSoftwareFoundation.Python.3.9_qbz5n2kfra8p0\\python.exe -m pip install --upgrade pip' command.\n"
          ]
        }
      ],
      "source": [
        "#!pip install torchvision"
      ]
    },
    {
      "cell_type": "code",
      "execution_count": 10,
      "metadata": {
        "id": "7wIHYRdowQOt"
      },
      "outputs": [],
      "source": [
        "import torch"
      ]
    },
    {
      "cell_type": "markdown",
      "metadata": {
        "id": "ubHItOgywqXZ"
      },
      "source": [
        "As you may know, GPU is always a good equipement. So check if you have it in your setting: (You can use CPU in this lab session. The configuration of GPU and CUDA takes much time and it's not necessary for a starting session.)"
      ]
    },
    {
      "cell_type": "code",
      "execution_count": 11,
      "metadata": {
        "colab": {
          "base_uri": "https://localhost:8080/"
        },
        "id": "PeQhPcdew3-A",
        "outputId": "921e2d04-ea38-4bc3-d056-0dafbb2631ef"
      },
      "outputs": [
        {
          "data": {
            "text/plain": [
              "device(type='cpu')"
            ]
          },
          "execution_count": 11,
          "metadata": {},
          "output_type": "execute_result"
        }
      ],
      "source": [
        "# Device configuration\n",
        "device = torch.device('cuda' if torch.cuda.is_available() else 'cpu')\n",
        "device"
      ]
    },
    {
      "cell_type": "markdown",
      "metadata": {
        "id": "nejcuC6NvtiU"
      },
      "source": [
        "## Data preparation: MNIST dataset\n",
        "The MNIST database (Modified National Institute of Standards and Technology database) is a large database of handwritten digits that is commonly used for training various image processing systems. The database is also widely used for training and testing in the field of machine learning.\n",
        "\n",
        "The MNIST database contains 60,000 training images and 10,000 testing images.\n",
        "\n",
        "PyTorch domain libraries provide a number of pre-loaded datasets, including MNIST. We can download it directly to local.\n",
        "\n",
        "[This is the introduction (and the source) of this data](http://yann.lecun.com/exdb/mnist/)"
      ]
    },
    {
      "cell_type": "code",
      "execution_count": 12,
      "metadata": {
        "id": "ZEDry4Xdul6t"
      },
      "outputs": [
        {
          "name": "stdout",
          "output_type": "stream",
          "text": [
            "Downloading http://yann.lecun.com/exdb/mnist/train-images-idx3-ubyte.gz\n",
            "Downloading http://yann.lecun.com/exdb/mnist/train-images-idx3-ubyte.gz to data\\MNIST\\raw\\train-images-idx3-ubyte.gz\n"
          ]
        },
        {
          "name": "stderr",
          "output_type": "stream",
          "text": [
            "100%|██████████| 9912422/9912422 [00:00<00:00, 32437082.30it/s]\n"
          ]
        },
        {
          "name": "stdout",
          "output_type": "stream",
          "text": [
            "Extracting data\\MNIST\\raw\\train-images-idx3-ubyte.gz to data\\MNIST\\raw\n",
            "\n",
            "Downloading http://yann.lecun.com/exdb/mnist/train-labels-idx1-ubyte.gz\n",
            "Downloading http://yann.lecun.com/exdb/mnist/train-labels-idx1-ubyte.gz to data\\MNIST\\raw\\train-labels-idx1-ubyte.gz\n"
          ]
        },
        {
          "name": "stderr",
          "output_type": "stream",
          "text": [
            "100%|██████████| 28881/28881 [00:00<00:00, 13092919.78it/s]\n"
          ]
        },
        {
          "name": "stdout",
          "output_type": "stream",
          "text": [
            "Extracting data\\MNIST\\raw\\train-labels-idx1-ubyte.gz to data\\MNIST\\raw\n",
            "\n",
            "Downloading http://yann.lecun.com/exdb/mnist/t10k-images-idx3-ubyte.gz\n",
            "Downloading http://yann.lecun.com/exdb/mnist/t10k-images-idx3-ubyte.gz to data\\MNIST\\raw\\t10k-images-idx3-ubyte.gz\n"
          ]
        },
        {
          "name": "stderr",
          "output_type": "stream",
          "text": [
            "100%|██████████| 1648877/1648877 [00:00<00:00, 28823540.14it/s]\n"
          ]
        },
        {
          "name": "stdout",
          "output_type": "stream",
          "text": [
            "Extracting data\\MNIST\\raw\\t10k-images-idx3-ubyte.gz to data\\MNIST\\raw\n",
            "\n",
            "Downloading http://yann.lecun.com/exdb/mnist/t10k-labels-idx1-ubyte.gz\n",
            "Downloading http://yann.lecun.com/exdb/mnist/t10k-labels-idx1-ubyte.gz to data\\MNIST\\raw\\t10k-labels-idx1-ubyte.gz\n"
          ]
        },
        {
          "name": "stderr",
          "output_type": "stream",
          "text": [
            "100%|██████████| 4542/4542 [00:00<?, ?it/s]"
          ]
        },
        {
          "name": "stdout",
          "output_type": "stream",
          "text": [
            "Extracting data\\MNIST\\raw\\t10k-labels-idx1-ubyte.gz to data\\MNIST\\raw\n",
            "\n"
          ]
        },
        {
          "name": "stderr",
          "output_type": "stream",
          "text": [
            "\n"
          ]
        }
      ],
      "source": [
        "from torchvision import datasets\n",
        "from torchvision.transforms import ToTensor\n",
        "train_data = datasets.MNIST(\n",
        "    root = 'data',\n",
        "    train = True,\n",
        "    transform = ToTensor(),\n",
        "    download = True,\n",
        ")\n",
        "test_data = datasets.MNIST(\n",
        "    root = 'data',\n",
        "    train = False,\n",
        "    transform = ToTensor()\n",
        ")"
      ]
    },
    {
      "cell_type": "markdown",
      "metadata": {
        "id": "RnFHUsRzyJK8"
      },
      "source": [
        "You can see the information on data directly by `print(train_data)`.\n",
        "\n",
        "Each sample is a 28 * 28 image.\n",
        "\n",
        "Let's show some of them:"
      ]
    },
    {
      "cell_type": "code",
      "execution_count": 13,
      "metadata": {
        "colab": {
          "base_uri": "https://localhost:8080/",
          "height": 675
        },
        "id": "zMjutx9junbP",
        "outputId": "8a081829-1690-4356-b78d-698dc82121b6"
      },
      "outputs": [
        {
          "data": {
            "image/png": "[encoded data removed]",
            "text/plain": [
              "<Figure size 1000x800 with 25 Axes>"
            ]
          },
          "metadata": {},
          "output_type": "display_data"
        }
      ],
      "source": [
        "import matplotlib.pyplot as plt\n",
        "\n",
        "figure = plt.figure(figsize=(10, 8))\n",
        "cols, rows = 5, 5\n",
        "for i in range(1, cols * rows + 1):\n",
        "    sample_idx = torch.randint(len(train_data), size=(1,)).item()\n",
        "    img, label = train_data[sample_idx]\n",
        "    figure.add_subplot(rows, cols, i)\n",
        "    plt.title(label)\n",
        "    plt.axis(\"off\")\n",
        "    plt.imshow(img.squeeze(), cmap=\"gray\")\n",
        "plt.show()"
      ]
    },
    {
      "cell_type": "markdown",
      "metadata": {
        "id": "K-LcgBf5zaAN"
      },
      "source": [
        "You can see that every image is targeted with its corresponding digit. And we have 60000 labeled data in `train_data` and 10000 in `test_data`."
      ]
    },
    {
      "cell_type": "code",
      "execution_count": 14,
      "metadata": {
        "colab": {
          "base_uri": "https://localhost:8080/"
        },
        "id": "unnydXSOzzMk",
        "outputId": "9007d1ec-11d6-4747-ed3f-515709ec9732"
      },
      "outputs": [
        {
          "name": "stdout",
          "output_type": "stream",
          "text": [
            "torch.Size([60000, 28, 28]) torch.Size([10000, 28, 28])\n"
          ]
        }
      ],
      "source": [
        "print(train_data.data.size(), test_data.data.size())"
      ]
    },
    {
      "cell_type": "markdown",
      "metadata": {
        "id": "RygJqWY-D31-"
      },
      "source": [
        "Pytorch provides easy-to-use API [`DataLoader`](https://pytorch.org/tutorials/beginner/basics/data_tutorial.html) to manage data during the training/testing process. It defines batch_size, shuffle mode, etc."
      ]
    },
    {
      "cell_type": "code",
      "execution_count": 15,
      "metadata": {
        "colab": {
          "base_uri": "https://localhost:8080/"
        },
        "id": "wcZXxsAJEKW9",
        "outputId": "04132bf8-def6-4078-b7ec-2e2edda9f7ab"
      },
      "outputs": [
        {
          "data": {
            "text/plain": [
              "{'train': <torch.utils.data.dataloader.DataLoader at 0x2303306d460>,\n",
              " 'test': <torch.utils.data.dataloader.DataLoader at 0x23052593b80>}"
            ]
          },
          "execution_count": 15,
          "metadata": {},
          "output_type": "execute_result"
        }
      ],
      "source": [
        "from torch.utils.data import DataLoader\n",
        "loaders = {\n",
        "    'train' : torch.utils.data.DataLoader(train_data,\n",
        "                                          batch_size=100,\n",
        "                                          shuffle=True),\n",
        "\n",
        "    'test'  : torch.utils.data.DataLoader(test_data,\n",
        "                                          batch_size=100,\n",
        "                                          shuffle=True),\n",
        "}\n",
        "loaders"
      ]
    },
    {
      "cell_type": "markdown",
      "metadata": {
        "id": "hhU1jc10z7em"
      },
      "source": [
        "<a name=\"simple_NN\"></a>\n",
        "\n",
        "## Build your own simple Neural Network\n",
        "\n",
        "Now, try to build up your own Nerural Network. Let's start from the most simple one: Multi-Layer Perceptron. (Slide 11 in lecture)\n",
        "\n",
        "Complete the model with instructions.\n",
        "[`torch.nn.Module`](https://pytorch.org/docs/stable/generated/torch.nn.Module.html#torch.nn.Module) is the basic class for all neural network module. Your models should also subclass this class.\n",
        "\n",
        "Modules can also contain other Modules, allowing to nest them in a tree structure. You can assign the submodules as regular attributes.\n",
        "\n",
        "We define our neural network by subclassing `nn.Module`, and initialize the neural network layers in `__init__`. Every `nn.Module` subclass implements the operations on input data in the forward method.\n",
        "\n",
        "You can read [this page](https://pytorch.org/tutorials/beginner/basics/buildmodel_tutorial.html) for more reference.\n",
        "\n",
        "You only need to complete the missing parts with `#TODO`"
      ]
    },
    {
      "cell_type": "code",
      "execution_count": 16,
      "metadata": {
        "id": "awUakp4n2-8J"
      },
      "outputs": [],
      "source": [
        "import torch.nn as nn\n",
        "import torch.nn.functional as F\n",
        "class MLP(nn.Module):\n",
        "    def __init__(self):\n",
        "        \"\"\"\n",
        "        In the initialisation function, you need to define all the layers\n",
        "        involved in the architecture.\n",
        "\n",
        "        You can either define each layer separately, or make up several components\n",
        "        of multi-layer in a sequential way.\n",
        "\n",
        "        In the example below, I show you both the two ways:\n",
        "        The Flatten operation is defined separately, the input, hidden, and output layers\n",
        "        are defined in a sequential way.\n",
        "        \"\"\"\n",
        "        super().__init__()\n",
        "        self.flatten = nn.Flatten()\n",
        "        self.one_hidden_layer = nn.Sequential(  # define each component in a nn.Sequential\n",
        "            nn.Linear(28*28, 512),              # A linear transformation y=wx + b\n",
        "                                                # input dimension is 28*28 and output dimension is 512.\n",
        "            nn.Tanh(),                          # The ouput of previous layer should\n",
        "                                                # pass through an Tanh activation function\n",
        "            nn.Linear(512, 10)                  #  Another linear transformation to logits (\"logits\": Slide 13)\n",
        "            # What are the dimension of data in this layer? (Hint: You have 10 classes in your classification problem)\n",
        "        )\n",
        "    def forward(self, x):\n",
        "        \"\"\"\n",
        "        In the forward function, you should define how data flow passes\n",
        "        to each layer/sequential layers, usually already defined as attribute of this class.\n",
        "\n",
        "        \"\"\"\n",
        "        x = self.flatten(x)                     # Firstly, flatten an image to a vector (use nn.Flatten())\n",
        "        logits = self.one_hidden_layer(x)       # Then pass the vector into the neural network.\n",
        "        return logits"
      ]
    },
    {
      "cell_type": "markdown",
      "metadata": {
        "id": "VgGuvIX1CHfl"
      },
      "source": [
        "Once the model is defined, you shoud load it to your device"
      ]
    },
    {
      "cell_type": "code",
      "execution_count": 17,
      "metadata": {
        "colab": {
          "base_uri": "https://localhost:8080/"
        },
        "id": "tJbaDYIYCHLO",
        "outputId": "cdc1d436-b272-4b68-d93d-828f33a74d1e"
      },
      "outputs": [
        {
          "name": "stdout",
          "output_type": "stream",
          "text": [
            "MLP(\n",
            "  (flatten): Flatten(start_dim=1, end_dim=-1)\n",
            "  (one_hidden_layer): Sequential(\n",
            "    (0): Linear(in_features=784, out_features=512, bias=True)\n",
            "    (1): Tanh()\n",
            "    (2): Linear(in_features=512, out_features=10, bias=True)\n",
            "  )\n",
            ")\n"
          ]
        }
      ],
      "source": [
        "model = MLP().to(device)\n",
        "print(model)"
      ]
    },
    {
      "cell_type": "markdown",
      "metadata": {
        "id": "vBqg1QavFibc"
      },
      "source": [
        "### Training process\n",
        "To train a model, we need to define following parameters:\n",
        "1. Loss function: we choose [cross-entropy](https://en.wikipedia.org/wiki/Cross-entropy) as loss function. Cross entropy defines the divergence between two probability distribution (ditribution of two classes in this problem). It is usually applied in classification problems (Slide 26).\n",
        "2. Optimizer: Pytorch has already integrated many [optimizers](https://pytorch.org/docs/stable/optim.html). We `SGD` is often selected by default. (Slide 31)\n",
        "\n"
      ]
    },
    {
      "cell_type": "code",
      "execution_count": 18,
      "metadata": {
        "id": "wGdKrB3IMdHu"
      },
      "outputs": [],
      "source": [
        "from torch import optim\n",
        "loss_func = nn.CrossEntropyLoss()\n",
        "optimizer = optim.SGD(model.parameters(), lr=0.001, momentum=0.9)"
      ]
    },
    {
      "cell_type": "markdown",
      "metadata": {
        "id": "alkC9wh_Md7v"
      },
      "source": [
        "Now train your model."
      ]
    },
    {
      "cell_type": "code",
      "execution_count": 19,
      "metadata": {
        "colab": {
          "base_uri": "https://localhost:8080/"
        },
        "id": "0602E6TjDf8D",
        "outputId": "98c5a82c-f488-430d-a262-ac14f0a80aa7"
      },
      "outputs": [
        {
          "name": "stdout",
          "output_type": "stream",
          "text": [
            "[1,   100] loss: 209.114\n",
            "[1,   200] loss: 164.083\n",
            "[1,   300] loss: 126.671\n",
            "[1,   400] loss: 102.191\n",
            "[1,   500] loss: 85.931\n",
            "[1,   600] loss: 75.924\n",
            "[2,   100] loss: 67.163\n",
            "[2,   200] loss: 62.355\n",
            "[2,   300] loss: 58.822\n",
            "[2,   400] loss: 55.443\n",
            "[2,   500] loss: 53.012\n",
            "[2,   600] loss: 51.576\n",
            "Finished Training\n"
          ]
        }
      ],
      "source": [
        "def train():\n",
        "    trainingEpoch_loss = []\n",
        "    for epoch in range(2):  # loop over the dataset multiple times\n",
        "\n",
        "        running_loss = 0.0\n",
        "        for i, data in enumerate(loaders[\"train\"], 0):\n",
        "            # get the inputs; data is a list of [inputs, labels]\n",
        "            inputs, labels = data\n",
        "\n",
        "            # zero the parameter gradients\n",
        "            optimizer.zero_grad()\n",
        "\n",
        "            # forward + backward + optimize\n",
        "            outputs = model(inputs)\n",
        "            loss = loss_func(outputs, labels) # calculate the loss between the predicted output and the ground truth label.\n",
        "            loss.backward()\n",
        "            optimizer.step()\n",
        "\n",
        "            # print statistics\n",
        "            running_loss += loss.item()\n",
        "            if i % 100 == 99:    # print every 100 mini-batches\n",
        "                print(f'[{epoch + 1}, {i + 1:5d}] loss: {running_loss:.3f}')\n",
        "                trainingEpoch_loss.append(running_loss)\n",
        "                running_loss = 0.0\n",
        "\n",
        "    print('Finished Training')\n",
        "    return trainingEpoch_loss\n",
        "loss_list=train()"
      ]
    },
    {
      "cell_type": "markdown",
      "metadata": {
        "id": "4a6bsHdmY8Qu"
      },
      "source": [
        "Let's plot the loss curve. You can clearly see that the loss converges, which is always a good sign."
      ]
    },
    {
      "cell_type": "code",
      "execution_count": 20,
      "metadata": {
        "colab": {
          "base_uri": "https://localhost:8080/",
          "height": 448
        },
        "id": "E1NfbwoOXzda",
        "outputId": "9a778d6a-b59a-42c0-a4dd-cfbf02d5c27a"
      },
      "outputs": [
        {
          "data": {
            "text/plain": [
              "<function matplotlib.pyplot.show(close=None, block=None)>"
            ]
          },
          "execution_count": 20,
          "metadata": {},
          "output_type": "execute_result"
        },
        {
          "data": {
            "image/png": "[encoded data removed]",
            "text/plain": [
              "<Figure size 640x480 with 1 Axes>"
            ]
          },
          "metadata": {},
          "output_type": "display_data"
        }
      ],
      "source": [
        "plt.plot(loss_list, label='train_loss')\n",
        "\n",
        "plt.legend()\n",
        "plt.show"
      ]
    },
    {
      "cell_type": "markdown",
      "metadata": {
        "id": "Un6laobSKn7I"
      },
      "source": [
        "Then, evaluate this model on the trained model:"
      ]
    },
    {
      "cell_type": "code",
      "execution_count": 21,
      "metadata": {
        "colab": {
          "base_uri": "https://localhost:8080/"
        },
        "id": "911X6j5fKnnC",
        "outputId": "12040ab6-8e86-49ca-9af8-ecf965157e7e"
      },
      "outputs": [
        {
          "name": "stdout",
          "output_type": "stream",
          "text": [
            "Test Accuracy of the model on the 10000 test images: 0.83\n"
          ]
        }
      ],
      "source": [
        "def test():\n",
        "    # Test the model\n",
        "    model.eval()            # Set the model on evaluation model\n",
        "    with torch.no_grad():   # We do not want the gradient to desend anymore during the evaluation process.\n",
        "        correct = 0\n",
        "        total = 0\n",
        "        for images, labels in loaders['test']:\n",
        "            test_output = model(images)\n",
        "            pred_y = torch.max(test_output, 1)[1].data.squeeze()\n",
        "            accuracy = (pred_y == labels).sum().item() / float(labels.size(0))\n",
        "            pass\n",
        "        print('Test Accuracy of the model on the 10000 test images: %.2f' % accuracy)\n",
        "\n",
        "    pass\n",
        "test()"
      ]
    },
    {
      "cell_type": "markdown",
      "metadata": {
        "id": "z09dCrhhREr1"
      },
      "source": [
        "The accuracy is around 92%, which is somewhat not bad. This is because the dataset we use is simple. If you try the more chanllenging tasks (such as [CIFAR10](https://www.cs.toronto.edu/~kriz/cifar.html) ), the results would be propabably worse. If you are interested, you can also download this dataset easily with `torchvision`. A more detailed tuto is available [here](https://pytorch.org/tutorials/beginner/blitz/cifar10_tutorial.html)."
      ]
    },
    {
      "cell_type": "markdown",
      "metadata": {
        "id": "f5Rg85wh4ydC"
      },
      "source": [
        "## Build your Convoluntion Neural Network\n",
        "As you have learned, Convolution layers are suitable for Vision missions. To recall, below is the architecture of LeNet5.\n",
        "<img src=\"https://d2l.ai/_images/lenet.svg\" alt=\"LeNet architecture\" />\n",
        "\n",
        "LeNet5 has 5 layers with two convolutional and three fully connected layers. Read the following detailed introduction and implement your own LeNet5.\n",
        "\n"
      ]
    },
    {
      "cell_type": "markdown",
      "metadata": {
        "id": "BVKyYEJ8IYrP"
      },
      "source": [
        "#### 1. First layer: Covolution (C1)\n",
        " The first layer is a 2-D convolution layer ([`nn.Conv2D`](https://pytorch.org/docs/stable/generated/torch.nn.Conv2d.html#torch.nn.Conv2d)). It accepts as input a **greyscale** (`in_channels = 1`) image of 28x28, indicating that the architecture is not suitable for RGB images. It consists of 6 convolution filters (**kernels**) of size 5x5  (`kernel_size = 5`) . Each kernel, representing a specific form in a 5x5 matrix, output to a feature map after convolution operation. Therefore, there will be 6 output chanels (`out_channels = 6`).  \n",
        "\n",
        "Essentially, LeCun assumes and implies that 6 different basic forms are needed to recognize the digit in the manuscript, while each form needs to be represented by a matrix of 5x5.\n",
        "\n",
        "You should also set Padding and Strides (See Slide 44, 45). Defining the way that kernels scan on the input image. You can set Strides to 1 and Padding to 0, usually applied as default values (`stride=1`, `padding=0`).\n",
        "\n",
        "The size of output will change after this process, depending on the size of kernel, Padding, and Strides (Slide 46).\n",
        "\n",
        "You should also apply activation function (ReLU, Tanh, Sigmoid, etc.) on the output of the convolution layer by `nn.ReLU`. The purpose is to add non-linearity to the operation. (The convolution and matrix manipulations involved are all linear operations. You cannot say that digit recgonition is a linear task, can you? [Here is a more detailed explaination](https://medium.com/@nerdjock/convolutional-neural-network-lesson-9-activation-functions-in-cnns-57def9c6e759))\n",
        "\n",
        "#### 2. Pooling (S2)\n",
        "\n",
        "The output would be 28x28x6. After this, pooling is applied to decrease the feature map by half, i.e, 14x14x6. (Slide 47) We take the maximum of every 2x2 pixels. [`nn.MaxPool2d`](https://pytorch.org/docs/stable/generated/torch.nn.MaxPool2d.html#torch.nn.MaxPool2d). For its parameters, we should set `kernel_size` by `2` because we take maximum in the range of 2x2. We should also set `stride` by `2` because we do not want to overlap the range when pooling.  \n",
        "\n",
        "#### 3. Convolution (C3)\n",
        "The output of previous pooling pass to the second convolution layer as input. You already know the meaning of each parameters. I resume here:\n",
        "* 6 channels as input, while 16 channels as output (because LeCun assumed that 16 kernels help best to extract the appropriate forms.)\n",
        "* kernel size is still 5x5 (to represent a form)\n",
        "* Still we take stride and padding by default value (stride=1, padding=0)\n",
        "\n",
        "Then, don't forget to add non-linearity by activation function `nn.ReLU()`.\n",
        "\n",
        "#### 4. Pooling (S4)\n",
        "Followed by the second convolution layer, we sample the features by another pooling layer. We can apply the same pooling layer in S2. Again, the output size is automatically calculated by equation in Slide 46.\n",
        "\n",
        "The output of S4 is therefore the features we extract by convolution operations.\n",
        "\n",
        "\n",
        "#### 5.6.7 Fully connected layers (F5 full, F6 full, Out)\n",
        "\n",
        "The features are in a tensor of 16x5x5. You need to reshape it then pass to the classifier (equal to a flatten procedure. you can use `out = reshape(out.size(0), -1)` in the `forward(self,x)` method, where `out` denotes your dataflow).\n",
        "\n",
        "The layers after are as simple as \"your first Neural Network\" introduced at the begining of this lab session.\n",
        "You need to be careful on their dimensions. You have 120 perceptrons in F5, 84 in F6, and 10 in Out layer (because you have 10 classes).\n",
        "Don't forget to apply activation function on the output of each fully connected layer.\n",
        "\n",
        "\n",
        "Now follow the comments in the code and complete the model.\n",
        "\n",
        "A tutorial (but not LeNet5) is available [HERE](https://pytorch.org/tutorials/beginner/basics/buildmodel_tutorial.html)"
      ]
    },
    {
      "cell_type": "code",
      "execution_count": 33,
      "metadata": {
        "id": "cI1W14Jv8dp0"
      },
      "outputs": [],
      "source": [
        "import torch.nn as nn\n",
        "import torch.nn.functional as F\n",
        "\n",
        "class LeNet(nn.Module):\n",
        "    def __init__(self):\n",
        "        super(LeNet, self).__init__()\n",
        "        # C1 Convolutional Layer\n",
        "        self.c1 = nn.Conv2d(in_channels=1, out_channels=6, kernel_size=5, stride=1, padding=0)\n",
        "        # S2 Pooling Layer\n",
        "        self.s2 = nn.MaxPool2d(kernel_size=2, stride=2)\n",
        "        # C3 Convolutional Layer\n",
        "        self.c3 = nn.Conv2d(in_channels=6, out_channels=16, kernel_size=5, stride=1, padding=0)\n",
        "        # S4 Pooling Layer\n",
        "        self.s4 = nn.MaxPool2d(kernel_size=2, stride=2)\n",
        "        \n",
        "        # F5 Fully Connected Layer\n",
        "        self.f5 = nn.Linear(16 * 4 * 4, 120)\n",
        "\n",
        "        # F6 Fully Connected Layer\n",
        "        self.f6 = nn.Linear(120, 84)\n",
        "        # Output Layer\n",
        "        self.out = nn.Linear(84, 10)\n",
        "\n",
        "    def forward(self, x):\n",
        "        # Pass data through C1\n",
        "        x = F.relu(self.c1(x))\n",
        "        # Pass data through S2\n",
        "        x = self.s2(x)\n",
        "        # Pass data through C3\n",
        "        x = F.relu(self.c3(x))\n",
        "        # Pass data through S4\n",
        "        x = self.s4(x)\n",
        "        # Flatten the data for the fully connected layer\n",
        "        x = x.view(x.size(0), -1)\n",
        "        # Pass data through F5\n",
        "        x = F.relu(self.f5(x))\n",
        "        # Pass data through F6\n",
        "        x = F.relu(self.f6(x))\n",
        "        # Pass data through the output layer\n",
        "        x = self.out(x)\n",
        "        return x\n",
        "\n"
      ]
    },
    {
      "cell_type": "code",
      "execution_count": 34,
      "metadata": {
        "colab": {
          "base_uri": "https://localhost:8080/"
        },
        "id": "RMa1MbJinVMN",
        "outputId": "c585e55f-9f7e-4212-ed3c-90b48499ba9d"
      },
      "outputs": [
        {
          "name": "stdout",
          "output_type": "stream",
          "text": [
            "LeNet(\n",
            "  (c1): Conv2d(1, 6, kernel_size=(5, 5), stride=(1, 1))\n",
            "  (s2): MaxPool2d(kernel_size=2, stride=2, padding=0, dilation=1, ceil_mode=False)\n",
            "  (c3): Conv2d(6, 16, kernel_size=(5, 5), stride=(1, 1))\n",
            "  (s4): MaxPool2d(kernel_size=2, stride=2, padding=0, dilation=1, ceil_mode=False)\n",
            "  (f5): Linear(in_features=256, out_features=120, bias=True)\n",
            "  (f6): Linear(in_features=120, out_features=84, bias=True)\n",
            "  (out): Linear(in_features=84, out_features=10, bias=True)\n",
            ")\n"
          ]
        }
      ],
      "source": [
        "# Instantiate the model and move to device\n",
        "device = torch.device('cuda' if torch.cuda.is_available() else 'cpu')\n",
        "model = LeNet().to(device)\n",
        "print(model)\n"
      ]
    },
    {
      "cell_type": "markdown",
      "metadata": {
        "id": "TEo9klNeVRxm"
      },
      "source": [
        "### Train and test your LeNet5\n",
        "\n",
        "You should define the loss function and optimization method, the train your LeNet5\n",
        "You can reuse the training and testing code as in \"[Your simple neural network](#simple_NN)\"\n",
        "\n",
        "What's your accuracy this time?"
      ]
    },
    {
      "cell_type": "code",
      "execution_count": 35,
      "metadata": {},
      "outputs": [],
      "source": [
        "import torch\n",
        "from torch import optim\n",
        "from torch.utils.data import DataLoader\n",
        "from torchvision import datasets, transforms\n"
      ]
    },
    {
      "cell_type": "code",
      "execution_count": 36,
      "metadata": {},
      "outputs": [],
      "source": [
        "\n",
        "# Define a transform to normalize the data\n",
        "transform = transforms.Compose([transforms.ToTensor(), \n",
        "                                transforms.Normalize((0.5,), (0.5,))])\n",
        "\n",
        "# Download and load the training data\n",
        "trainset = datasets.MNIST('MNIST_data/', download=True, train=True, transform=transform)\n",
        "trainloader = DataLoader(trainset, batch_size=64, shuffle=True)\n",
        "\n",
        "# Download and load the test data\n",
        "testset = datasets.MNIST('MNIST_data/', download=True, train=False, transform=transform)\n",
        "testloader = DataLoader(testset, batch_size=64, shuffle=False)\n",
        "\n",
        "# Define the loss function and optimizer\n",
        "loss_func = nn.CrossEntropyLoss()\n",
        "optimizer = optim.SGD(model.parameters(), lr=0.003, momentum=0.9)\n"
      ]
    },
    {
      "cell_type": "code",
      "execution_count": 37,
      "metadata": {},
      "outputs": [],
      "source": [
        "# Training function\n",
        "def train(model, trainloader, loss_func, optimizer):\n",
        "    model.train()\n",
        "    total_loss = 0\n",
        "    for images, labels in trainloader:\n",
        "        images, labels = images.to(device), labels.to(device)\n",
        "\n",
        "        optimizer.zero_grad()\n",
        "\n",
        "        output = model(images)\n",
        "        loss = loss_func(output, labels)\n",
        "\n",
        "        loss.backward()\n",
        "        optimizer.step()\n",
        "\n",
        "        total_loss += loss.item()\n",
        "    return total_loss / len(trainloader)\n",
        "\n",
        "# Testing function\n",
        "def test(model, testloader):\n",
        "    model.eval()\n",
        "    correct = 0\n",
        "    total = 0\n",
        "    with torch.no_grad():\n",
        "        for images, labels in testloader:\n",
        "            images, labels = images.to(device), labels.to(device)\n",
        "            outputs = model(images)\n",
        "            _, predicted = torch.max(outputs.data, 1)\n",
        "            total += labels.size(0)\n",
        "            correct += (predicted == labels).sum().item()\n",
        "\n",
        "    return correct / total\n"
      ]
    },
    {
      "cell_type": "code",
      "execution_count": 39,
      "metadata": {},
      "outputs": [
        {
          "name": "stdout",
          "output_type": "stream",
          "text": [
            "Epoch 1, Loss: 0.04811728742745107\n",
            "Epoch 2, Loss: 0.04173567392855887\n",
            "Epoch 3, Loss: 0.03677645736564594\n",
            "Epoch 4, Loss: 0.03417188813773367\n",
            "Epoch 5, Loss: 0.03033524562517786\n"
          ]
        }
      ],
      "source": [
        "# Training loop\n",
        "loss_list = []\n",
        "num_epochs = 5\n",
        "for epoch in range(num_epochs):\n",
        "    loss = train(model, trainloader, loss_func, optimizer)\n",
        "    loss_list.append(loss)\n",
        "    print(f'Epoch {epoch+1}, Loss: {loss}')\n"
      ]
    },
    {
      "cell_type": "code",
      "execution_count": 40,
      "metadata": {},
      "outputs": [
        {
          "name": "stdout",
          "output_type": "stream",
          "text": [
            "Accuracy of the network on the 10000 test images: 98.98%\n"
          ]
        }
      ],
      "source": [
        "# Testing loop\n",
        "accuracy = test(model, testloader)\n",
        "print(f'Accuracy of the network on the 10000 test images: {accuracy * 100}%')"
      ]
    },
    {
      "cell_type": "code",
      "execution_count": 41,
      "metadata": {},
      "outputs": [
        {
          "data": {
            "image/png": "[encoded data removed]",
            "text/plain": [
              "<Figure size 640x480 with 1 Axes>"
            ]
          },
          "metadata": {},
          "output_type": "display_data"
        }
      ],
      "source": [
        "import matplotlib.pyplot as plt\n",
        "\n",
        "plt.plot(loss_list, label='Train Loss')\n",
        "plt.xlabel('Epochs')\n",
        "plt.ylabel('Loss')\n",
        "plt.title('Training Loss Over Epochs')\n",
        "plt.legend()\n",
        "plt.show()\n"
      ]
    }
  ],
  "metadata": {
    "colab": {
      "provenance": []
    },
    "kernelspec": {
      "display_name": "Python 3",
      "name": "python3"
    },
    "language_info": {
      "codemirror_mode": {
        "name": "ipython",
        "version": 3
      },
      "file_extension": ".py",
      "mimetype": "text/x-python",
      "name": "python",
      "nbconvert_exporter": "python",
      "pygments_lexer": "ipython3",
      "version": "3.9.13"
    }
  },
  "nbformat": 4,
  "nbformat_minor": 0
}
